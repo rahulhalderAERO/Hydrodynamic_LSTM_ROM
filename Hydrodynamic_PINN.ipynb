{
  "nbformat": 4,
  "nbformat_minor": 0,
  "metadata": {
    "colab": {
      "provenance": [],
      "authorship_tag": "ABX9TyMFrQU+/aIiz+Iqbm5dreCD",
      "include_colab_link": true
    },
    "kernelspec": {
      "name": "python3",
      "display_name": "Python 3"
    },
    "language_info": {
      "name": "python"
    }
  },
  "cells": [
    {
      "cell_type": "markdown",
      "metadata": {
        "id": "view-in-github",
        "colab_type": "text"
      },
      "source": [
        "<a href=\"https://colab.research.google.com/github/rahulhalderAERO/Hydrodynamic_LSTM_ROM/blob/main/Hydrodynamic_PINN.ipynb\" target=\"_parent\"><img src=\"https://colab.research.google.com/assets/colab-badge.svg\" alt=\"Open In Colab\"/></a>"
      ]
    },
    {
      "cell_type": "markdown",
      "source": [
        "The LSTM-PINN algorithms introduces the loss function computed from the discretized governing equation.The Governing Equation is the rigid body dynamic Equation as \n",
        "\\begin{align}\n",
        "        [M]\\ddot{x}  = F \\\\\n",
        "\\end{align}\n",
        "where, \n",
        "\\begin{align}\n",
        "        [M] = \n",
        "\\begin{bmatrix}\n",
        "M & 0 & 0\\\\\n",
        "0 & M & 0\\\\\n",
        "0 & 0 & J\n",
        "\\end{bmatrix} ,\n",
        "[X] = \n",
        "\\begin{bmatrix}\n",
        "S \\\\\n",
        "h \\\\\n",
        "\\alpha\n",
        "\\end{bmatrix} ,\n",
        "[F] = \n",
        "\\begin{bmatrix}\n",
        "F_x \\\\\n",
        "F_y + (1-1/{\\rho}_r)Mg \\\\\n",
        "T\n",
        "\\end{bmatrix}\n",
        "\\end{align}\n",
        "\n",
        "The Governing Equations can be written as sets of first order derivatives:\n",
        "\n",
        "\\begin{align}\n",
        "̇\\begin{bmatrix}\n",
        "X \\\\\n",
        "\\dot{X} \n",
        "\\end{bmatrix}\n",
        "\\end{align}\n",
        "        \n"
      ],
      "metadata": {
        "id": "MpQpEmnmlm3U"
      }
    },
    {
      "cell_type": "code",
      "source": [
        "from keras.models import Sequential \n",
        "from keras.layers import Dense\n",
        "import numpy as np\n",
        "from matplotlib import pyplot as plt\n",
        "from keras.layers import LSTM\n",
        "from sklearn.preprocessing import MinMaxScaler\n",
        "import pandas as pd\n",
        "from keras import backend as K\n",
        "import tensorflow as tf\n",
        "import random\n",
        "import time\n",
        "start_time = time.time()\n",
        "Ext_Col = 6\n",
        "test_step = 25"
      ],
      "metadata": {
        "id": "3tzj1mi7mm_v"
      },
      "execution_count": null,
      "outputs": []
    },
    {
      "cell_type": "markdown",
      "source": [
        "Import Training and Test Data"
      ],
      "metadata": {
        "id": "AKLqnQjX99GD"
      }
    },
    {
      "cell_type": "code",
      "source": [
        "import pandas as pd\n",
        "Output_Train = pd.read_csv(\"https://raw.githubusercontent.com/rahulhalderAERO/Hydrodynamic_LSTM_ROM/main/box_smooth_Dis.csv\",skiprows = None , header = None )\n",
        "Input_Train = pd.read_csv(\"https://raw.githubusercontent.com/rahulhalderAERO/Hydrodynamic_LSTM_ROM/main/Test_Input_Force_Only.csv\",skiprows = None , header = None )\n",
        "Output_Test = pd.read_csv(\"https://raw.githubusercontent.com/rahulhalderAERO/Hydrodynamic_LSTM_ROM/main/box_smooth_Dis.csv\",skiprows = None , header = None )\n",
        "Input_Test = pd.read_csv(\"https://raw.githubusercontent.com/rahulhalderAERO/Hydrodynamic_LSTM_ROM/main/Test_Input_Force_Only.csv\",skiprows = None , header = None )"
      ],
      "metadata": {
        "id": "3SeLDa2kmJhv"
      },
      "execution_count": null,
      "outputs": []
    },
    {
      "cell_type": "markdown",
      "source": [
        "Normalize the input data"
      ],
      "metadata": {
        "id": "AT8SDOuh98Q9"
      }
    },
    {
      "cell_type": "code",
      "source": [
        "Output_array = Output_Train.values\n",
        "input_scaler = MinMaxScaler(feature_range=(0, 1))\n",
        "input_Traindata = input_scaler.fit_transform(Input_Train)\n",
        "input_Testdata = input_scaler.fit_transform(Input_Test)"
      ],
      "metadata": {
        "id": "rvwBzmODB6l8"
      },
      "execution_count": null,
      "outputs": []
    },
    {
      "cell_type": "markdown",
      "source": [
        "initialize output with zero\n",
        "\n",
        "\n"
      ],
      "metadata": {
        "id": "3oUgqMsNCAGx"
      }
    },
    {
      "cell_type": "code",
      "source": [
        "output_discrete = np.zeros(shape=(Output_array.shape[0],Output_array.shape[1]+Ext_Col*2))\n",
        "x_train = []\n",
        "y_train = []\n",
        "x_test = []"
      ],
      "metadata": {
        "id": "bhxi8qohCTsD"
      },
      "execution_count": null,
      "outputs": []
    },
    {
      "cell_type": "markdown",
      "source": [
        "Prepare the input train dataset with the windows of time"
      ],
      "metadata": {
        "id": "9TtLPfqsCYfZ"
      }
    },
    {
      "cell_type": "code",
      "source": [
        "for i in range(test_step,input_Traindata.shape[0]):\n",
        "    x_train.append(input_Traindata[i-test_step:i,0].reshape(-1,1))\n",
        "x_train_mid = np.array(x_train)\n",
        "x_train = []\n",
        "\n",
        "for j in range(2,4):\n",
        "    for i in range(test_step,input_Traindata.shape[0]):\n",
        "        x_train.append(input_Traindata[i-test_step:i,j].reshape(-1,1))\n",
        "    x_train_mid1 = np.array(x_train)\n",
        "    x_train = []\n",
        "    x_train_final = np.concatenate((x_train_mid,x_train_mid1),axis = 2) \n",
        "    x_train_mid = x_train_final\n",
        "    \n",
        "x_train = x_train_final"
      ],
      "metadata": {
        "id": "z4aP40vgCYGX"
      },
      "execution_count": null,
      "outputs": []
    },
    {
      "cell_type": "markdown",
      "source": [
        "Prepare the input test dataset with the windows of time\n"
      ],
      "metadata": {
        "id": "tX7F5O5-C5lu"
      }
    },
    {
      "cell_type": "code",
      "source": [
        "for i in range(test_step,input_Testdata.shape[0]):\n",
        "    x_test.append(input_Testdata[i-test_step:i,0].reshape(-1,1))\n",
        "x_test_mid = np.array(x_test)\n",
        "x_test = []\n",
        "\n",
        "for j in range(2,4):\n",
        "    for i in range(test_step,input_Testdata.shape[0]):\n",
        "        x_test.append(input_Testdata[i-test_step:i,j].reshape(-1,1))\n",
        "    x_test_mid1 = np.array(x_test)\n",
        "    x_test = []\n",
        "    x_test_final = np.concatenate((x_test_mid,x_test_mid1),axis = 2) \n",
        "    x_test_mid = x_test_final\n",
        "    \n",
        "x_test = x_test_final"
      ],
      "metadata": {
        "id": "oSj1wBxpC-sf"
      },
      "execution_count": null,
      "outputs": []
    },
    {
      "cell_type": "markdown",
      "source": [
        "The output of the LSTM-PINN network contains the box responses and their time derivatives at $n^{th}$ ,$n^{th}-1 $ and $n^{th}-2$  time steps. Therefore the size of the output of the network is $R^{18\\times N_{t}}$ . $n$ is any time instant in total time steps of $N_{t}$. "
      ],
      "metadata": {
        "id": "DLLFt0xsDEob"
      }
    },
    {
      "cell_type": "code",
      "source": [
        "for j in range(Ext_Col):\n",
        "    output_discrete[:,3*(j)] = Output_array[:,j]\n",
        "    output_discrete[1:,3*(j)+1] = Output_array[:-1,j]\n",
        "    output_discrete[2:,3*(j)+2] = Output_array[:-2:,j]\n",
        "output_final =  np.concatenate((output_discrete,input_Traindata[:,1:4]),axis=1)\n",
        "\n",
        "\n",
        "output_scaler = MinMaxScaler(feature_range=(0, 1))\n",
        "output_Traindata = output_scaler.fit_transform(output_final)\n",
        "\n",
        "\n",
        "y_train = output_Traindata[test_step:len(output_final)]"
      ],
      "metadata": {
        "id": "DDFl7ckMKwka"
      },
      "execution_count": null,
      "outputs": []
    },
    {
      "cell_type": "markdown",
      "source": [
        "For the LSTM-PINN network, a percentage of the training input is considered. Zero is inserted in the rows where data are not available.  "
      ],
      "metadata": {
        "id": "Q5EjtWJWK2aX"
      }
    },
    {
      "cell_type": "code",
      "source": [
        "list=[]\n",
        "for i in range(10000):\n",
        "    r=random.randint(1,y_train.shape[0]-1)\n",
        "    if r not in list: list.append(r)\n",
        "    list_array = np.array(list)\n",
        "\n",
        "\n",
        "for k in range(len(list_array)):\n",
        "    val_row = list_array[k]\n",
        "    y_train[val_row,:-3] = 0"
      ],
      "metadata": {
        "id": "ryA8qLDbK8B-"
      },
      "execution_count": null,
      "outputs": []
    },
    {
      "cell_type": "markdown",
      "source": [
        "LSTM Model\n"
      ],
      "metadata": {
        "id": "JVILuKUXLBIV"
      }
    },
    {
      "cell_type": "code",
      "source": [
        "model = Sequential()\n",
        "model.add(LSTM(units = 50,return_sequences = True, input_shape = (x_train.shape[1], x_train.shape[2])))    \n",
        "model.add(LSTM(units =50,return_sequences = True))\n",
        "model.add(LSTM(units = 50))\n",
        "model.add(Dense(units = 21))"
      ],
      "metadata": {
        "id": "0L2YplZVLArN"
      },
      "execution_count": null,
      "outputs": []
    },
    {
      "cell_type": "markdown",
      "source": [
        "The PINN loss function PINN_LOSS is designed in such a way, The data based loss function and governing equation based loss function is computed for the input and output rows and only governing equation based loss function is computed for the rows where data is not available.  "
      ],
      "metadata": {
        "id": "AQAuP3R8ND7X"
      }
    },
    {
      "cell_type": "code",
      "source": [
        "dt = 0.008;\n",
        "\n",
        "\n",
        "def normalized_to_actual(pred,i):\n",
        "    min_pred =  output_final[:,i].min()\n",
        "    max_pred =  output_final[:,i].max()\n",
        "    return (max_pred-min_pred)*pred[:,i]+min_pred\n",
        "\n",
        "def actual_to_normalized(y,i):\n",
        "    min_pred =  output_final[:,i].min()\n",
        "    max_pred =  output_final[:,i].max()\n",
        "    return (y-min_pred)/(max_pred-min_pred)\n",
        "\n",
        "\n",
        "\n",
        "def PINN_LOSS(y_true, y_pred):\n",
        "        \n",
        "    def DIFF_FILTERED(x, y):\n",
        "        y_true_new = x+0.00001\n",
        "        y_true_div = tf.math.divide(y, y_true_new)\n",
        "        difference = 1-y_true_div\n",
        "        y_true_mult = tf.math.multiply(x, difference)\n",
        "        return y_true_mult\n",
        "    \n",
        "    loss_mid = (K.square(DIFF_FILTERED(y_true[:,0], y_pred[:,0])))\n",
        "    w = [0.01,0.01,0.01,0.001,0.001,0.001] # Weight matrix for the loss functions\n",
        "    \n",
        "    for i in range(1,17):\n",
        "        loss_mid = loss_mid + (K.square(DIFF_FILTERED(y_true[:,i], y_pred[:,i]))) \n",
        "    \n",
        "    # velocity and acceleration computed from the predicted results. \n",
        "\n",
        "    v_x = (3*normalized_to_actual(y_pred,0)-4*normalized_to_actual(y_pred,1) + normalized_to_actual(y_pred,2))/(2*dt)\n",
        "    v_y = (3*normalized_to_actual(y_pred,3)-4*normalized_to_actual(y_pred,4) + normalized_to_actual(y_pred,5))/(2*dt)\n",
        "    v_th =(3*normalized_to_actual(y_pred,6)-4*normalized_to_actual(y_pred,7) + normalized_to_actual(y_pred,8))/(2*dt)\n",
        "    \n",
        "    a_x = (3*normalized_to_actual(y_pred,9)-4*normalized_to_actual(y_pred,10) + normalized_to_actual(y_pred,11))/(2*dt)\n",
        "    a_y = (3*normalized_to_actual(y_pred,12)-4*normalized_to_actual(y_pred,13) + normalized_to_actual(y_pred,14))/(2*dt)\n",
        "    a_th =(3*normalized_to_actual(y_pred,15)-4*normalized_to_actual(y_pred,16) + normalized_to_actual(y_pred,17))/(2*dt)\n",
        "    \n",
        "    Act_vs = actual_to_normalized(v_x,9)\n",
        "    Act_vh = actual_to_normalized(v_y,12)\n",
        "    Act_vth =actual_to_normalized(v_th,15)\n",
        "    \n",
        "    Act_as = actual_to_normalized(a_x,18)\n",
        "    Act_ah = actual_to_normalized(a_y,19)\n",
        "    Act_ath = actual_to_normalized(a_th,20)\n",
        "    \n",
        "    loss_accsurge = (K.square(y_true[:,18]-Act_as))\n",
        "    loss_accheave = (K.square(y_true[:,19]-Act_ah))\n",
        "    loss_accpitch = (K.square(y_true[:,20]-Act_ath))\n",
        "    \n",
        "    loss_velsurge = (K.square(y_true[:,9]-Act_vs))\n",
        "    loss_velheave = (K.square(y_true[:,12]-Act_vh))\n",
        "    loss_velpitch = (K.square(y_true[:,15]-Act_vth))\n",
        "    \n",
        "    # loss_mid is data based loss function and loss_accsurge, loss_accheave, loss_accpitch are the losses computed from the acceleration equations. \n",
        "    # loss_velsurge, loss_velheave, loss_velpitch are loss based on the velocity equation. \n",
        "    \n",
        "    loss_mid2 = loss_mid + w[0]*loss_accsurge + w[1]*loss_accheave + w[2]*loss_accpitch + w[3]*loss_velsurge + w[4]*loss_velheave + w[5]*loss_velpitch \n",
        "    \n",
        "    loss = K.mean((loss_mid2),axis = -1)\n",
        "    return loss"
      ],
      "metadata": {
        "id": "DrFDbvbFNIfj"
      },
      "execution_count": null,
      "outputs": []
    },
    {
      "cell_type": "markdown",
      "source": [
        "Train and prediction Phase"
      ],
      "metadata": {
        "id": "h64KTwg9LTrj"
      }
    },
    {
      "cell_type": "code",
      "source": [
        "epochs = 50\n",
        "model.compile(optimizer = 'adam' , loss = PINN_LOSS)\n",
        "history = model.fit(x_train,y_train, epochs = epochs , batch_size = 25)\n",
        "A = history.history['loss']\n",
        "print(\"--- %s seconds ---\" % (time.time() - start_time))\n",
        "predicted_y = (model.predict(x_train))\n",
        "y_pred_trainset_inv = output_scaler.inverse_transform(predicted_y)"
      ],
      "metadata": {
        "id": "WkxHSRSBLPNO",
        "outputId": "25d7b6de-adf9-4c00-d4f7-0427aa6a6f01",
        "colab": {
          "base_uri": "https://localhost:8080/"
        }
      },
      "execution_count": null,
      "outputs": [
        {
          "output_type": "stream",
          "name": "stdout",
          "text": [
            "Epoch 1/50\n",
            "80/80 [==============================] - 14s 33ms/step - loss: 3118.9482\n",
            "Epoch 2/50\n",
            "80/80 [==============================] - 3s 34ms/step - loss: 16.6106\n",
            "Epoch 3/50\n",
            "80/80 [==============================] - 3s 33ms/step - loss: 10.2176\n",
            "Epoch 4/50\n",
            "80/80 [==============================] - 3s 34ms/step - loss: 7.1876\n",
            "Epoch 5/50\n",
            "80/80 [==============================] - 3s 33ms/step - loss: 5.2920\n",
            "Epoch 6/50\n",
            "80/80 [==============================] - 3s 33ms/step - loss: 3.7849\n",
            "Epoch 7/50\n",
            "80/80 [==============================] - 3s 33ms/step - loss: 2.9729\n",
            "Epoch 8/50\n",
            "80/80 [==============================] - 3s 34ms/step - loss: 2.4685\n",
            "Epoch 9/50\n",
            "80/80 [==============================] - 3s 33ms/step - loss: 2.1486\n",
            "Epoch 10/50\n",
            "80/80 [==============================] - 3s 34ms/step - loss: 2.0993\n",
            "Epoch 11/50\n",
            "80/80 [==============================] - 3s 33ms/step - loss: 1.8045\n",
            "Epoch 12/50\n",
            "80/80 [==============================] - 3s 33ms/step - loss: 1.6559\n",
            "Epoch 13/50\n",
            "80/80 [==============================] - 3s 33ms/step - loss: 1.5757\n",
            "Epoch 14/50\n",
            "80/80 [==============================] - 3s 33ms/step - loss: 1.4652\n",
            "Epoch 15/50\n",
            "80/80 [==============================] - 3s 33ms/step - loss: 1.5738\n",
            "Epoch 16/50\n",
            "80/80 [==============================] - 4s 48ms/step - loss: 1.3751\n",
            "Epoch 17/50\n",
            "80/80 [==============================] - 3s 42ms/step - loss: 1.2884\n",
            "Epoch 18/50\n",
            "80/80 [==============================] - 3s 41ms/step - loss: 1.2847\n",
            "Epoch 19/50\n",
            "80/80 [==============================] - 3s 32ms/step - loss: 1.2129\n",
            "Epoch 20/50\n",
            "80/80 [==============================] - 3s 32ms/step - loss: 1.1883\n",
            "Epoch 21/50\n",
            "80/80 [==============================] - 3s 33ms/step - loss: 1.1490\n",
            "Epoch 22/50\n",
            "80/80 [==============================] - 4s 47ms/step - loss: 1.1461\n",
            "Epoch 23/50\n",
            "80/80 [==============================] - 3s 33ms/step - loss: 1.1096\n",
            "Epoch 24/50\n",
            "80/80 [==============================] - 3s 33ms/step - loss: 1.1400\n",
            "Epoch 25/50\n",
            "80/80 [==============================] - 3s 33ms/step - loss: 1.1189\n",
            "Epoch 26/50\n",
            "80/80 [==============================] - 3s 33ms/step - loss: 1.0887\n",
            "Epoch 27/50\n",
            "80/80 [==============================] - 3s 33ms/step - loss: 1.0645\n",
            "Epoch 28/50\n",
            "80/80 [==============================] - 3s 43ms/step - loss: 1.0395\n",
            "Epoch 29/50\n",
            "80/80 [==============================] - 3s 38ms/step - loss: 1.0405\n",
            "Epoch 30/50\n",
            "80/80 [==============================] - 3s 36ms/step - loss: 1.0209\n",
            "Epoch 31/50\n",
            "80/80 [==============================] - 3s 34ms/step - loss: 1.0457\n",
            "Epoch 32/50\n",
            "80/80 [==============================] - 3s 33ms/step - loss: 1.0912\n",
            "Epoch 33/50\n",
            "80/80 [==============================] - 3s 33ms/step - loss: 1.0491\n",
            "Epoch 34/50\n",
            "80/80 [==============================] - 3s 33ms/step - loss: 0.9820\n",
            "Epoch 35/50\n",
            "80/80 [==============================] - 3s 33ms/step - loss: 1.0055\n",
            "Epoch 36/50\n",
            "80/80 [==============================] - 3s 33ms/step - loss: 0.9975\n",
            "Epoch 37/50\n",
            "80/80 [==============================] - 3s 33ms/step - loss: 0.9682\n",
            "Epoch 38/50\n",
            "80/80 [==============================] - 3s 34ms/step - loss: 1.0199\n",
            "Epoch 39/50\n",
            "80/80 [==============================] - 3s 34ms/step - loss: 1.0068\n",
            "Epoch 40/50\n",
            "80/80 [==============================] - 3s 33ms/step - loss: 1.1159\n",
            "Epoch 41/50\n",
            "80/80 [==============================] - 3s 33ms/step - loss: 5.2695\n",
            "Epoch 42/50\n",
            "80/80 [==============================] - 3s 33ms/step - loss: 1.2423\n",
            "Epoch 43/50\n",
            "80/80 [==============================] - 3s 34ms/step - loss: 1.3783\n",
            "Epoch 44/50\n",
            "80/80 [==============================] - 3s 33ms/step - loss: 0.9933\n",
            "Epoch 45/50\n",
            "80/80 [==============================] - 3s 33ms/step - loss: 1.4532\n",
            "Epoch 46/50\n",
            "80/80 [==============================] - 3s 33ms/step - loss: 1.4434\n",
            "Epoch 47/50\n",
            "80/80 [==============================] - 3s 34ms/step - loss: 1.0672\n",
            "Epoch 48/50\n",
            "80/80 [==============================] - 3s 34ms/step - loss: 3.1915\n",
            "Epoch 49/50\n",
            "80/80 [==============================] - 3s 34ms/step - loss: 8.1719\n",
            "Epoch 50/50\n",
            "80/80 [==============================] - 3s 33ms/step - loss: 2.6371\n",
            "--- 4154.537446975708 seconds ---\n",
            "62/62 [==============================] - 2s 10ms/step\n"
          ]
        }
      ]
    },
    {
      "cell_type": "markdown",
      "source": [
        "plot"
      ],
      "metadata": {
        "id": "xnOnPbTqL_-S"
      }
    },
    {
      "cell_type": "code",
      "source": [
        "plt.plot(np.arange(0,len(y_train)),Output_array[test_step:,1],label='Actual')\n",
        "plt.plot(np.arange(0,len(y_train)),y_pred_trainset_inv[:,3] , label ='Predicted')"
      ],
      "metadata": {
        "id": "O4g40vTLL_lp",
        "outputId": "b6503a45-ef13-4b73-ee3a-5c77a3926f5c",
        "colab": {
          "base_uri": "https://localhost:8080/",
          "height": 283
        }
      },
      "execution_count": null,
      "outputs": [
        {
          "output_type": "execute_result",
          "data": {
            "text/plain": [
              "[<matplotlib.lines.Line2D at 0x7f10a3f26b80>]"
            ]
          },
          "metadata": {},
          "execution_count": 22
        },
        {
          "output_type": "display_data",
          "data": {
            "text/plain": [
              "<Figure size 432x288 with 1 Axes>"
            ],
            "image/png": "[encoded data removed]"
          },
          "metadata": {
            "needs_background": "light"
          }
        }
      ]
    },
    {
      "cell_type": "markdown",
      "source": [],
      "metadata": {
        "id": "KG-bj0gWBjrH"
      }
    },
    {
      "cell_type": "markdown",
      "source": [],
      "metadata": {
        "id": "ZJP_gSsIlmLV"
      }
    },
    {
      "cell_type": "markdown",
      "source": [],
      "metadata": {
        "id": "l4vKwJEtjxJy"
      }
    }
  ]
}