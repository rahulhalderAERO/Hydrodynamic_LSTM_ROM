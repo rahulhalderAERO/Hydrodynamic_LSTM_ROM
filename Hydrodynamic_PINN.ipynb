{
  "nbformat": 4,
  "nbformat_minor": 0,
  "metadata": {
    "colab": {
      "provenance": [],
      "authorship_tag": "ABX9TyNOMJAWpnG0A81J1iSi1DLb",
      "include_colab_link": true
    },
    "kernelspec": {
      "name": "python3",
      "display_name": "Python 3"
    },
    "language_info": {
      "name": "python"
    }
  },
  "cells": [
    {
      "cell_type": "markdown",
      "metadata": {
        "id": "view-in-github",
        "colab_type": "text"
      },
      "source": [
        "<a href=\"https://colab.research.google.com/github/rahulhalderAERO/Hydrodynamic_LSTM_ROM/blob/main/Hydrodynamic_PINN.ipynb\" target=\"_parent\"><img src=\"https://colab.research.google.com/assets/colab-badge.svg\" alt=\"Open In Colab\"/></a>"
      ]
    },
    {
      "cell_type": "code",
      "execution_count": null,
      "metadata": {
        "id": "573RvYN0jv6z"
      },
      "outputs": [],
      "source": []
    },
    {
      "cell_type": "markdown",
      "source": [
        "The LSTM-PINN algorithms introduces the loss function computed from the discretized governing equation.The Governing Equation is the rigid body dynamic Equation as $M\\ddot{x} + K {x} = F$\n"
      ],
      "metadata": {
        "id": "MpQpEmnmlm3U"
      }
    },
    {
      "cell_type": "code",
      "source": [
        "from keras.models import Sequential \n",
        "from keras.layers import Dense\n",
        "import numpy as np\n",
        "from matplotlib import pyplot as plt\n",
        "from keras.layers import LSTM\n",
        "from sklearn.preprocessing import MinMaxScaler\n",
        "import pandas as pd\n",
        "from keras import backend as K\n",
        "import tensorflow as tf\n",
        "import random\n",
        "import time\n",
        "start_time = time.time()"
      ],
      "metadata": {
        "id": "3tzj1mi7mm_v"
      },
      "execution_count": 1,
      "outputs": []
    },
    {
      "cell_type": "markdown",
      "source": [
        "Import Training and Test Data"
      ],
      "metadata": {
        "id": "AKLqnQjX99GD"
      }
    },
    {
      "cell_type": "code",
      "source": [
        "Output = pd.read_csv(\"box_smooth.csv\",skiprows = None , header = None )\n",
        "Input = pd.read_csv(\"Test_Input_Force_Only.csv\",skiprows = None , header = None )\n",
        "Output1 = pd.read_csv(\"box_smooth.csv\",skiprows = None , header = None )\n",
        "Input1 = pd.read_csv(\"Test_Input_Force_Only.csv\",skiprows = None , header = None )"
      ],
      "metadata": {
        "id": "3SeLDa2kmJhv"
      },
      "execution_count": 3,
      "outputs": []
    },
    {
      "cell_type": "markdown",
      "source": [],
      "metadata": {
        "id": "AT8SDOuh98Q9"
      }
    },
    {
      "cell_type": "markdown",
      "source": [],
      "metadata": {
        "id": "ZJP_gSsIlmLV"
      }
    },
    {
      "cell_type": "markdown",
      "source": [],
      "metadata": {
        "id": "l4vKwJEtjxJy"
      }
    }
  ]
}